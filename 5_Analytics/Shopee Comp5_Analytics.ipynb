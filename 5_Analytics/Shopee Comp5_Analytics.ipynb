{
 "cells": [
  {
   "cell_type": "code",
   "execution_count": 1,
   "metadata": {
    "ExecuteTime": {
     "end_time": "2020-07-11T05:54:54.190766Z",
     "start_time": "2020-07-11T05:54:47.717439Z"
    }
   },
   "outputs": [],
   "source": [
    "import pandas as pd\n",
    "import numpy as np\n",
    "import seaborn as sns\n",
    "import matplotlib.pyplot as plt\n",
    "%matplotlib inline"
   ]
  },
  {
   "cell_type": "code",
   "execution_count": 4,
   "metadata": {
    "ExecuteTime": {
     "end_time": "2020-07-11T06:03:08.620462Z",
     "start_time": "2020-07-11T06:02:46.396225Z"
    }
   },
   "outputs": [],
   "source": [
    "compfile = pd.read_csv('delivery_orders_march.csv')"
   ]
  },
  {
   "cell_type": "code",
   "execution_count": 34,
   "metadata": {
    "ExecuteTime": {
     "end_time": "2020-07-11T06:29:18.903417Z",
     "start_time": "2020-07-11T06:29:18.872302Z"
    }
   },
   "outputs": [
    {
     "data": {
      "text/html": [
       "<div>\n",
       "<style scoped>\n",
       "    .dataframe tbody tr th:only-of-type {\n",
       "        vertical-align: middle;\n",
       "    }\n",
       "\n",
       "    .dataframe tbody tr th {\n",
       "        vertical-align: top;\n",
       "    }\n",
       "\n",
       "    .dataframe thead th {\n",
       "        text-align: right;\n",
       "    }\n",
       "</style>\n",
       "<table border=\"1\" class=\"dataframe\">\n",
       "  <thead>\n",
       "    <tr style=\"text-align: right;\">\n",
       "      <th></th>\n",
       "      <th>orderid</th>\n",
       "      <th>pick</th>\n",
       "      <th>1st_deliver_attempt</th>\n",
       "      <th>2nd_deliver_attempt</th>\n",
       "      <th>buyeraddress</th>\n",
       "      <th>selleraddress</th>\n",
       "      <th>1st_del_attempt_datetime</th>\n",
       "      <th>2nd_deliver_attempt_datetime</th>\n",
       "      <th>pick_datetime</th>\n",
       "      <th>buyeraddress_lower</th>\n",
       "      <th>selleraddress_lower</th>\n",
       "    </tr>\n",
       "  </thead>\n",
       "  <tbody>\n",
       "    <tr>\n",
       "      <th>0</th>\n",
       "      <td>2215676524</td>\n",
       "      <td>1583138397</td>\n",
       "      <td>1.583385e+09</td>\n",
       "      <td>NaN</td>\n",
       "      <td>Baging ldl BUENAVISTA,PATAG.CAGAYAN Buagsong,c...</td>\n",
       "      <td>Pantranco vill. 417 Warehouse# katipunan 532 (...</td>\n",
       "      <td>2020-03-05 05:09:18</td>\n",
       "      <td>NaT</td>\n",
       "      <td>2020-03-02 08:39:57</td>\n",
       "      <td>baging ldl buenavista,patag.cagayan buagsong,c...</td>\n",
       "      <td>pantranco vill. 417 warehouse# katipunan 532 (...</td>\n",
       "    </tr>\n",
       "    <tr>\n",
       "      <th>1</th>\n",
       "      <td>2219624609</td>\n",
       "      <td>1583309968</td>\n",
       "      <td>1.583463e+09</td>\n",
       "      <td>1.583799e+09</td>\n",
       "      <td>coloma's quzom CASANAS Site1 Masiyan 533A Stol...</td>\n",
       "      <td>BLDG 210A Moras C42B 2B16,168 church) Complex ...</td>\n",
       "      <td>2020-03-06 02:53:56</td>\n",
       "      <td>2020-03-10 00:02:56</td>\n",
       "      <td>2020-03-04 08:19:28</td>\n",
       "      <td>coloma's quzom casanas site1 masiyan 533a stol...</td>\n",
       "      <td>bldg 210a moras c42b 2b16,168 church) complex ...</td>\n",
       "    </tr>\n",
       "    <tr>\n",
       "      <th>2</th>\n",
       "      <td>2220979489</td>\n",
       "      <td>1583306434</td>\n",
       "      <td>1.583460e+09</td>\n",
       "      <td>NaN</td>\n",
       "      <td>21-O LumangDaan,Capitangan,Abucay,Bataan .Bign...</td>\n",
       "      <td>#66 150-C, DRIVE, Milagros Joe socorro Metro M...</td>\n",
       "      <td>2020-03-06 01:56:19</td>\n",
       "      <td>NaT</td>\n",
       "      <td>2020-03-04 07:20:34</td>\n",
       "      <td>21-o lumangdaan,capitangan,abucay,bataan .bign...</td>\n",
       "      <td>#66 150-c, drive, milagros joe socorro metro m...</td>\n",
       "    </tr>\n",
       "    <tr>\n",
       "      <th>3</th>\n",
       "      <td>2221066352</td>\n",
       "      <td>1583419016</td>\n",
       "      <td>1.583556e+09</td>\n",
       "      <td>NaN</td>\n",
       "      <td>616Espiritu MARTINVILLE,MANUYO #5paraiso kengi...</td>\n",
       "      <td>999maII 201,26 Villaruel Barretto gen.t number...</td>\n",
       "      <td>2020-03-07 04:45:41</td>\n",
       "      <td>NaT</td>\n",
       "      <td>2020-03-05 14:36:56</td>\n",
       "      <td>616espiritu martinville,manuyo #5paraiso kengi...</td>\n",
       "      <td>999maii 201,26 villaruel barretto gen.t number...</td>\n",
       "    </tr>\n",
       "    <tr>\n",
       "      <th>4</th>\n",
       "      <td>2222478803</td>\n",
       "      <td>1583318305</td>\n",
       "      <td>1.583480e+09</td>\n",
       "      <td>NaN</td>\n",
       "      <td>L042 Summerbreezee1 L2(Balanay analyn Lot760 C...</td>\n",
       "      <td>G66MANILA Hiyas Fitness MAYSILO magdiwang Lt.4...</td>\n",
       "      <td>2020-03-06 07:41:40</td>\n",
       "      <td>NaT</td>\n",
       "      <td>2020-03-04 10:38:25</td>\n",
       "      <td>l042 summerbreezee1 l2(balanay analyn lot760 c...</td>\n",
       "      <td>g66manila hiyas fitness maysilo magdiwang lt.4...</td>\n",
       "    </tr>\n",
       "  </tbody>\n",
       "</table>\n",
       "</div>"
      ],
      "text/plain": [
       "      orderid        pick  1st_deliver_attempt  2nd_deliver_attempt  \\\n",
       "0  2215676524  1583138397         1.583385e+09                  NaN   \n",
       "1  2219624609  1583309968         1.583463e+09         1.583799e+09   \n",
       "2  2220979489  1583306434         1.583460e+09                  NaN   \n",
       "3  2221066352  1583419016         1.583556e+09                  NaN   \n",
       "4  2222478803  1583318305         1.583480e+09                  NaN   \n",
       "\n",
       "                                        buyeraddress  \\\n",
       "0  Baging ldl BUENAVISTA,PATAG.CAGAYAN Buagsong,c...   \n",
       "1  coloma's quzom CASANAS Site1 Masiyan 533A Stol...   \n",
       "2  21-O LumangDaan,Capitangan,Abucay,Bataan .Bign...   \n",
       "3  616Espiritu MARTINVILLE,MANUYO #5paraiso kengi...   \n",
       "4  L042 Summerbreezee1 L2(Balanay analyn Lot760 C...   \n",
       "\n",
       "                                       selleraddress 1st_del_attempt_datetime  \\\n",
       "0  Pantranco vill. 417 Warehouse# katipunan 532 (...      2020-03-05 05:09:18   \n",
       "1  BLDG 210A Moras C42B 2B16,168 church) Complex ...      2020-03-06 02:53:56   \n",
       "2  #66 150-C, DRIVE, Milagros Joe socorro Metro M...      2020-03-06 01:56:19   \n",
       "3  999maII 201,26 Villaruel Barretto gen.t number...      2020-03-07 04:45:41   \n",
       "4  G66MANILA Hiyas Fitness MAYSILO magdiwang Lt.4...      2020-03-06 07:41:40   \n",
       "\n",
       "  2nd_deliver_attempt_datetime       pick_datetime  \\\n",
       "0                          NaT 2020-03-02 08:39:57   \n",
       "1          2020-03-10 00:02:56 2020-03-04 08:19:28   \n",
       "2                          NaT 2020-03-04 07:20:34   \n",
       "3                          NaT 2020-03-05 14:36:56   \n",
       "4                          NaT 2020-03-04 10:38:25   \n",
       "\n",
       "                                  buyeraddress_lower  \\\n",
       "0  baging ldl buenavista,patag.cagayan buagsong,c...   \n",
       "1  coloma's quzom casanas site1 masiyan 533a stol...   \n",
       "2  21-o lumangdaan,capitangan,abucay,bataan .bign...   \n",
       "3  616espiritu martinville,manuyo #5paraiso kengi...   \n",
       "4  l042 summerbreezee1 l2(balanay analyn lot760 c...   \n",
       "\n",
       "                                 selleraddress_lower  \n",
       "0  pantranco vill. 417 warehouse# katipunan 532 (...  \n",
       "1  bldg 210a moras c42b 2b16,168 church) complex ...  \n",
       "2  #66 150-c, drive, milagros joe socorro metro m...  \n",
       "3  999maii 201,26 villaruel barretto gen.t number...  \n",
       "4  g66manila hiyas fitness maysilo magdiwang lt.4...  "
      ]
     },
     "execution_count": 34,
     "metadata": {},
     "output_type": "execute_result"
    }
   ],
   "source": [
    "compfile.head()"
   ]
  },
  {
   "cell_type": "markdown",
   "metadata": {},
   "source": [
    "Convert from epoch time to locale time."
   ]
  },
  {
   "cell_type": "code",
   "execution_count": 7,
   "metadata": {
    "ExecuteTime": {
     "end_time": "2020-07-11T06:09:23.923976Z",
     "start_time": "2020-07-11T06:09:23.835691Z"
    }
   },
   "outputs": [
    {
     "data": {
      "text/plain": [
       "numpy.float64"
      ]
     },
     "execution_count": 7,
     "metadata": {},
     "output_type": "execute_result"
    }
   ],
   "source": [
    "type(compfile['1st_deliver_attempt'][1])"
   ]
  },
  {
   "cell_type": "code",
   "execution_count": 17,
   "metadata": {
    "ExecuteTime": {
     "end_time": "2020-07-11T06:19:52.148173Z",
     "start_time": "2020-07-11T06:19:21.898716Z"
    }
   },
   "outputs": [],
   "source": [
    "compfile['1st_del_attempt_datetime'] = pd.to_datetime(compfile['1st_deliver_attempt'],unit='s')"
   ]
  },
  {
   "cell_type": "code",
   "execution_count": 19,
   "metadata": {
    "ExecuteTime": {
     "end_time": "2020-07-11T06:22:40.361196Z",
     "start_time": "2020-07-11T06:22:29.012534Z"
    }
   },
   "outputs": [],
   "source": [
    "compfile['2nd_deliver_attempt_datetime'] = pd.to_datetime(compfile['2nd_deliver_attempt'],unit='s')"
   ]
  },
  {
   "cell_type": "code",
   "execution_count": 20,
   "metadata": {
    "ExecuteTime": {
     "end_time": "2020-07-11T06:23:30.969624Z",
     "start_time": "2020-07-11T06:23:30.810437Z"
    }
   },
   "outputs": [],
   "source": [
    "compfile['pick_datetime'] = pd.to_datetime(compfile['pick'],unit='s')"
   ]
  },
  {
   "cell_type": "markdown",
   "metadata": {},
   "source": [
    "Lowercasing the entire address columns for uniformity."
   ]
  },
  {
   "cell_type": "code",
   "execution_count": 31,
   "metadata": {
    "ExecuteTime": {
     "end_time": "2020-07-11T06:28:47.027508Z",
     "start_time": "2020-07-11T06:28:43.346712Z"
    }
   },
   "outputs": [],
   "source": [
    "compfile['buyeraddress_lower'] = compfile['buyeraddress'].str.lower()"
   ]
  },
  {
   "cell_type": "code",
   "execution_count": 33,
   "metadata": {
    "ExecuteTime": {
     "end_time": "2020-07-11T06:29:15.668458Z",
     "start_time": "2020-07-11T06:29:11.419749Z"
    }
   },
   "outputs": [],
   "source": [
    "compfile['selleraddress_lower'] = compfile['selleraddress'].str.lower()"
   ]
  },
  {
   "cell_type": "markdown",
   "metadata": {},
   "source": [
    "Running a sanity check for lengths show that some addresses contain multiple instances of different regions. We proceed by simply taking the last word in the address line as the region. Manila can be interpreted as Metro Manila, since the function only takes the last word."
   ]
  },
  {
   "cell_type": "code",
   "execution_count": 35,
   "metadata": {
    "ExecuteTime": {
     "end_time": "2020-07-11T06:31:18.601398Z",
     "start_time": "2020-07-11T06:31:15.600545Z"
    }
   },
   "outputs": [
    {
     "data": {
      "text/plain": [
       "1560698"
      ]
     },
     "execution_count": 35,
     "metadata": {},
     "output_type": "execute_result"
    }
   ],
   "source": [
    "compfile['buyeraddress_lower'].str.contains('metro manila').sum()"
   ]
  },
  {
   "cell_type": "code",
   "execution_count": 37,
   "metadata": {
    "ExecuteTime": {
     "end_time": "2020-07-11T06:31:44.363419Z",
     "start_time": "2020-07-11T06:31:41.603453Z"
    }
   },
   "outputs": [
    {
     "data": {
      "text/plain": [
       "806165"
      ]
     },
     "execution_count": 37,
     "metadata": {},
     "output_type": "execute_result"
    }
   ],
   "source": [
    "compfile['buyeraddress_lower'].str.contains('luzon').sum()"
   ]
  },
  {
   "cell_type": "code",
   "execution_count": 38,
   "metadata": {
    "ExecuteTime": {
     "end_time": "2020-07-11T06:32:04.959538Z",
     "start_time": "2020-07-11T06:32:02.600071Z"
    }
   },
   "outputs": [
    {
     "data": {
      "text/plain": [
       "480146"
      ]
     },
     "execution_count": 38,
     "metadata": {},
     "output_type": "execute_result"
    }
   ],
   "source": [
    "compfile['buyeraddress_lower'].str.contains('visayas').sum()"
   ]
  },
  {
   "cell_type": "code",
   "execution_count": 39,
   "metadata": {
    "ExecuteTime": {
     "end_time": "2020-07-11T06:32:07.793965Z",
     "start_time": "2020-07-11T06:32:05.259585Z"
    }
   },
   "outputs": [
    {
     "data": {
      "text/plain": [
       "331744"
      ]
     },
     "execution_count": 39,
     "metadata": {},
     "output_type": "execute_result"
    }
   ],
   "source": [
    "compfile['buyeraddress_lower'].str.contains('mindanao').sum()"
   ]
  },
  {
   "cell_type": "code",
   "execution_count": 40,
   "metadata": {
    "ExecuteTime": {
     "end_time": "2020-07-11T06:32:19.445351Z",
     "start_time": "2020-07-11T06:32:19.436183Z"
    }
   },
   "outputs": [
    {
     "data": {
      "text/plain": [
       "3178753"
      ]
     },
     "execution_count": 40,
     "metadata": {},
     "output_type": "execute_result"
    }
   ],
   "source": [
    "331744+480146+806165+1560698"
   ]
  },
  {
   "cell_type": "code",
   "execution_count": 36,
   "metadata": {
    "ExecuteTime": {
     "end_time": "2020-07-11T06:31:29.901649Z",
     "start_time": "2020-07-11T06:31:29.890880Z"
    }
   },
   "outputs": [
    {
     "data": {
      "text/plain": [
       "3176313"
      ]
     },
     "execution_count": 36,
     "metadata": {},
     "output_type": "execute_result"
    }
   ],
   "source": [
    "len(compfile)"
   ]
  },
  {
   "cell_type": "markdown",
   "metadata": {},
   "source": [
    "Some regions contain instances of multiple regions. These were used as a passing check."
   ]
  },
  {
   "cell_type": "code",
   "execution_count": 44,
   "metadata": {
    "ExecuteTime": {
     "end_time": "2020-07-11T06:34:44.932510Z",
     "start_time": "2020-07-11T06:34:42.290299Z"
    }
   },
   "outputs": [
    {
     "data": {
      "text/plain": [
       "5"
      ]
     },
     "execution_count": 44,
     "metadata": {},
     "output_type": "execute_result"
    }
   ],
   "source": [
    "compfile['buyeraddress_lower'].str.contains('luzon mindanao').sum()"
   ]
  },
  {
   "cell_type": "code",
   "execution_count": 45,
   "metadata": {
    "ExecuteTime": {
     "end_time": "2020-07-11T06:34:57.976191Z",
     "start_time": "2020-07-11T06:34:55.738926Z"
    }
   },
   "outputs": [
    {
     "data": {
      "text/plain": [
       "12"
      ]
     },
     "execution_count": 45,
     "metadata": {},
     "output_type": "execute_result"
    }
   ],
   "source": [
    "compfile['buyeraddress_lower'].str.contains('luzon visayas').sum()"
   ]
  },
  {
   "cell_type": "code",
   "execution_count": 46,
   "metadata": {
    "ExecuteTime": {
     "end_time": "2020-07-11T06:35:22.966512Z",
     "start_time": "2020-07-11T06:35:20.616724Z"
    }
   },
   "outputs": [
    {
     "data": {
      "text/plain": [
       "9"
      ]
     },
     "execution_count": 46,
     "metadata": {},
     "output_type": "execute_result"
    }
   ],
   "source": [
    "compfile['buyeraddress_lower'].str.contains('mindanao visayas').sum()"
   ]
  },
  {
   "cell_type": "code",
   "execution_count": 50,
   "metadata": {
    "ExecuteTime": {
     "end_time": "2020-07-11T06:36:22.837068Z",
     "start_time": "2020-07-11T06:36:20.416550Z"
    }
   },
   "outputs": [
    {
     "data": {
      "text/plain": [
       "0"
      ]
     },
     "execution_count": 50,
     "metadata": {},
     "output_type": "execute_result"
    }
   ],
   "source": [
    "compfile['buyeraddress_lower'].str.contains('metro manila visayas').sum()"
   ]
  },
  {
   "cell_type": "code",
   "execution_count": 53,
   "metadata": {
    "ExecuteTime": {
     "end_time": "2020-07-11T06:38:15.556674Z",
     "start_time": "2020-07-11T06:38:12.753782Z"
    }
   },
   "outputs": [],
   "source": [
    "luzon_vis_mismatch = compfile[compfile['buyeraddress_lower'].str.contains('luzon visayas')]"
   ]
  },
  {
   "cell_type": "markdown",
   "metadata": {},
   "source": [
    "Extracting the last word from the address columns to determine the buyer/seller region:"
   ]
  },
  {
   "cell_type": "code",
   "execution_count": 72,
   "metadata": {
    "ExecuteTime": {
     "end_time": "2020-07-11T06:45:56.643377Z",
     "start_time": "2020-07-11T06:45:31.473771Z"
    }
   },
   "outputs": [],
   "source": [
    "compfile['buyeraddress_city'] = compfile['buyeraddress_lower'].str.split().str[-1]"
   ]
  },
  {
   "cell_type": "code",
   "execution_count": 75,
   "metadata": {
    "ExecuteTime": {
     "end_time": "2020-07-11T06:47:52.853053Z",
     "start_time": "2020-07-11T06:47:16.740690Z"
    }
   },
   "outputs": [],
   "source": [
    "compfile['selleraddress_city'] = compfile['selleraddress_lower'].str.split().str[-1]"
   ]
  },
  {
   "cell_type": "markdown",
   "metadata": {},
   "source": [
    "Checking the locations of all the buyers to see if the data makes sense:"
   ]
  },
  {
   "cell_type": "code",
   "execution_count": 77,
   "metadata": {
    "ExecuteTime": {
     "end_time": "2020-07-11T06:50:22.633695Z",
     "start_time": "2020-07-11T06:50:13.280179Z"
    }
   },
   "outputs": [
    {
     "data": {
      "text/plain": [
       "manila      1560698\n",
       "luzon        804888\n",
       "visayas      479595\n",
       "mindanao     331132\n",
       "Name: buyeraddress_city, dtype: int64"
      ]
     },
     "execution_count": 77,
     "metadata": {},
     "output_type": "execute_result"
    }
   ],
   "source": [
    "compfile['buyeraddress_city'].value_counts()"
   ]
  },
  {
   "cell_type": "markdown",
   "metadata": {},
   "source": [
    "Buyer addresses look good. No surprises here.\n",
    "\n",
    "Nearly all sellers are located in Manila. Key thing to look out for:"
   ]
  },
  {
   "cell_type": "code",
   "execution_count": 76,
   "metadata": {
    "ExecuteTime": {
     "end_time": "2020-07-11T06:49:22.624065Z",
     "start_time": "2020-07-11T06:49:12.704840Z"
    }
   },
   "outputs": [
    {
     "data": {
      "text/plain": [
       "manila    3176312\n",
       "luzon           1\n",
       "Name: selleraddress_city, dtype: int64"
      ]
     },
     "execution_count": 76,
     "metadata": {},
     "output_type": "execute_result"
    }
   ],
   "source": [
    "compfile['selleraddress_city'].value_counts()"
   ]
  },
  {
   "cell_type": "code",
   "execution_count": 78,
   "metadata": {
    "ExecuteTime": {
     "end_time": "2020-07-11T06:51:18.833940Z",
     "start_time": "2020-07-11T06:51:18.770182Z"
    }
   },
   "outputs": [
    {
     "data": {
      "text/html": [
       "<div>\n",
       "<style scoped>\n",
       "    .dataframe tbody tr th:only-of-type {\n",
       "        vertical-align: middle;\n",
       "    }\n",
       "\n",
       "    .dataframe tbody tr th {\n",
       "        vertical-align: top;\n",
       "    }\n",
       "\n",
       "    .dataframe thead th {\n",
       "        text-align: right;\n",
       "    }\n",
       "</style>\n",
       "<table border=\"1\" class=\"dataframe\">\n",
       "  <thead>\n",
       "    <tr style=\"text-align: right;\">\n",
       "      <th></th>\n",
       "      <th>orderid</th>\n",
       "      <th>pick</th>\n",
       "      <th>1st_deliver_attempt</th>\n",
       "      <th>2nd_deliver_attempt</th>\n",
       "      <th>buyeraddress</th>\n",
       "      <th>selleraddress</th>\n",
       "      <th>1st_del_attempt_datetime</th>\n",
       "      <th>2nd_deliver_attempt_datetime</th>\n",
       "      <th>pick_datetime</th>\n",
       "      <th>buyeraddress_lower</th>\n",
       "      <th>selleraddress_lower</th>\n",
       "      <th>buyeraddress_city</th>\n",
       "      <th>selleraddress_city</th>\n",
       "    </tr>\n",
       "  </thead>\n",
       "  <tbody>\n",
       "    <tr>\n",
       "      <th>0</th>\n",
       "      <td>2215676524</td>\n",
       "      <td>1583138397</td>\n",
       "      <td>1.583385e+09</td>\n",
       "      <td>NaN</td>\n",
       "      <td>Baging ldl BUENAVISTA,PATAG.CAGAYAN Buagsong,c...</td>\n",
       "      <td>Pantranco vill. 417 Warehouse# katipunan 532 (...</td>\n",
       "      <td>2020-03-05 05:09:18</td>\n",
       "      <td>NaT</td>\n",
       "      <td>2020-03-02 08:39:57</td>\n",
       "      <td>baging ldl buenavista,patag.cagayan buagsong,c...</td>\n",
       "      <td>pantranco vill. 417 warehouse# katipunan 532 (...</td>\n",
       "      <td>manila</td>\n",
       "      <td>manila</td>\n",
       "    </tr>\n",
       "    <tr>\n",
       "      <th>1</th>\n",
       "      <td>2219624609</td>\n",
       "      <td>1583309968</td>\n",
       "      <td>1.583463e+09</td>\n",
       "      <td>1.583799e+09</td>\n",
       "      <td>coloma's quzom CASANAS Site1 Masiyan 533A Stol...</td>\n",
       "      <td>BLDG 210A Moras C42B 2B16,168 church) Complex ...</td>\n",
       "      <td>2020-03-06 02:53:56</td>\n",
       "      <td>2020-03-10 00:02:56</td>\n",
       "      <td>2020-03-04 08:19:28</td>\n",
       "      <td>coloma's quzom casanas site1 masiyan 533a stol...</td>\n",
       "      <td>bldg 210a moras c42b 2b16,168 church) complex ...</td>\n",
       "      <td>manila</td>\n",
       "      <td>manila</td>\n",
       "    </tr>\n",
       "    <tr>\n",
       "      <th>2</th>\n",
       "      <td>2220979489</td>\n",
       "      <td>1583306434</td>\n",
       "      <td>1.583460e+09</td>\n",
       "      <td>NaN</td>\n",
       "      <td>21-O LumangDaan,Capitangan,Abucay,Bataan .Bign...</td>\n",
       "      <td>#66 150-C, DRIVE, Milagros Joe socorro Metro M...</td>\n",
       "      <td>2020-03-06 01:56:19</td>\n",
       "      <td>NaT</td>\n",
       "      <td>2020-03-04 07:20:34</td>\n",
       "      <td>21-o lumangdaan,capitangan,abucay,bataan .bign...</td>\n",
       "      <td>#66 150-c, drive, milagros joe socorro metro m...</td>\n",
       "      <td>manila</td>\n",
       "      <td>manila</td>\n",
       "    </tr>\n",
       "    <tr>\n",
       "      <th>3</th>\n",
       "      <td>2221066352</td>\n",
       "      <td>1583419016</td>\n",
       "      <td>1.583556e+09</td>\n",
       "      <td>NaN</td>\n",
       "      <td>616Espiritu MARTINVILLE,MANUYO #5paraiso kengi...</td>\n",
       "      <td>999maII 201,26 Villaruel Barretto gen.t number...</td>\n",
       "      <td>2020-03-07 04:45:41</td>\n",
       "      <td>NaT</td>\n",
       "      <td>2020-03-05 14:36:56</td>\n",
       "      <td>616espiritu martinville,manuyo #5paraiso kengi...</td>\n",
       "      <td>999maii 201,26 villaruel barretto gen.t number...</td>\n",
       "      <td>manila</td>\n",
       "      <td>manila</td>\n",
       "    </tr>\n",
       "    <tr>\n",
       "      <th>4</th>\n",
       "      <td>2222478803</td>\n",
       "      <td>1583318305</td>\n",
       "      <td>1.583480e+09</td>\n",
       "      <td>NaN</td>\n",
       "      <td>L042 Summerbreezee1 L2(Balanay analyn Lot760 C...</td>\n",
       "      <td>G66MANILA Hiyas Fitness MAYSILO magdiwang Lt.4...</td>\n",
       "      <td>2020-03-06 07:41:40</td>\n",
       "      <td>NaT</td>\n",
       "      <td>2020-03-04 10:38:25</td>\n",
       "      <td>l042 summerbreezee1 l2(balanay analyn lot760 c...</td>\n",
       "      <td>g66manila hiyas fitness maysilo magdiwang lt.4...</td>\n",
       "      <td>luzon</td>\n",
       "      <td>manila</td>\n",
       "    </tr>\n",
       "  </tbody>\n",
       "</table>\n",
       "</div>"
      ],
      "text/plain": [
       "      orderid        pick  1st_deliver_attempt  2nd_deliver_attempt  \\\n",
       "0  2215676524  1583138397         1.583385e+09                  NaN   \n",
       "1  2219624609  1583309968         1.583463e+09         1.583799e+09   \n",
       "2  2220979489  1583306434         1.583460e+09                  NaN   \n",
       "3  2221066352  1583419016         1.583556e+09                  NaN   \n",
       "4  2222478803  1583318305         1.583480e+09                  NaN   \n",
       "\n",
       "                                        buyeraddress  \\\n",
       "0  Baging ldl BUENAVISTA,PATAG.CAGAYAN Buagsong,c...   \n",
       "1  coloma's quzom CASANAS Site1 Masiyan 533A Stol...   \n",
       "2  21-O LumangDaan,Capitangan,Abucay,Bataan .Bign...   \n",
       "3  616Espiritu MARTINVILLE,MANUYO #5paraiso kengi...   \n",
       "4  L042 Summerbreezee1 L2(Balanay analyn Lot760 C...   \n",
       "\n",
       "                                       selleraddress 1st_del_attempt_datetime  \\\n",
       "0  Pantranco vill. 417 Warehouse# katipunan 532 (...      2020-03-05 05:09:18   \n",
       "1  BLDG 210A Moras C42B 2B16,168 church) Complex ...      2020-03-06 02:53:56   \n",
       "2  #66 150-C, DRIVE, Milagros Joe socorro Metro M...      2020-03-06 01:56:19   \n",
       "3  999maII 201,26 Villaruel Barretto gen.t number...      2020-03-07 04:45:41   \n",
       "4  G66MANILA Hiyas Fitness MAYSILO magdiwang Lt.4...      2020-03-06 07:41:40   \n",
       "\n",
       "  2nd_deliver_attempt_datetime       pick_datetime  \\\n",
       "0                          NaT 2020-03-02 08:39:57   \n",
       "1          2020-03-10 00:02:56 2020-03-04 08:19:28   \n",
       "2                          NaT 2020-03-04 07:20:34   \n",
       "3                          NaT 2020-03-05 14:36:56   \n",
       "4                          NaT 2020-03-04 10:38:25   \n",
       "\n",
       "                                  buyeraddress_lower  \\\n",
       "0  baging ldl buenavista,patag.cagayan buagsong,c...   \n",
       "1  coloma's quzom casanas site1 masiyan 533a stol...   \n",
       "2  21-o lumangdaan,capitangan,abucay,bataan .bign...   \n",
       "3  616espiritu martinville,manuyo #5paraiso kengi...   \n",
       "4  l042 summerbreezee1 l2(balanay analyn lot760 c...   \n",
       "\n",
       "                                 selleraddress_lower buyeraddress_city  \\\n",
       "0  pantranco vill. 417 warehouse# katipunan 532 (...            manila   \n",
       "1  bldg 210a moras c42b 2b16,168 church) complex ...            manila   \n",
       "2  #66 150-c, drive, milagros joe socorro metro m...            manila   \n",
       "3  999maii 201,26 villaruel barretto gen.t number...            manila   \n",
       "4  g66manila hiyas fitness maysilo magdiwang lt.4...             luzon   \n",
       "\n",
       "  selleraddress_city  \n",
       "0             manila  \n",
       "1             manila  \n",
       "2             manila  \n",
       "3             manila  \n",
       "4             manila  "
      ]
     },
     "execution_count": 78,
     "metadata": {},
     "output_type": "execute_result"
    }
   ],
   "source": [
    "compfile.head()"
   ]
  },
  {
   "cell_type": "markdown",
   "metadata": {},
   "source": [
    "Find number of days between pickup and 1st delivery:"
   ]
  },
  {
   "cell_type": "code",
   "execution_count": 90,
   "metadata": {
    "ExecuteTime": {
     "end_time": "2020-07-11T07:11:51.002838Z",
     "start_time": "2020-07-11T07:11:50.992176Z"
    }
   },
   "outputs": [
    {
     "data": {
      "text/plain": [
       "orderid                                                                2219624609\n",
       "pick                                                                   1583309968\n",
       "1st_deliver_attempt                                                   1.58346e+09\n",
       "2nd_deliver_attempt                                                    1.5838e+09\n",
       "buyeraddress                    coloma's quzom CASANAS Site1 Masiyan 533A Stol...\n",
       "selleraddress                   BLDG 210A Moras C42B 2B16,168 church) Complex ...\n",
       "1st_del_attempt_datetime                                      2020-03-06 02:53:56\n",
       "2nd_deliver_attempt_datetime                                  2020-03-10 00:02:56\n",
       "pick_datetime                                                 2020-03-04 08:19:28\n",
       "buyeraddress_lower              coloma's quzom casanas site1 masiyan 533a stol...\n",
       "selleraddress_lower             bldg 210a moras c42b 2b16,168 church) complex ...\n",
       "buyeraddress_city                                                          manila\n",
       "selleraddress_city                                                         manila\n",
       "Name: 1, dtype: object"
      ]
     },
     "execution_count": 90,
     "metadata": {},
     "output_type": "execute_result"
    }
   ],
   "source": [
    "sample_order = compfile.iloc[1]\n",
    "sample_order"
   ]
  },
  {
   "cell_type": "code",
   "execution_count": 85,
   "metadata": {
    "ExecuteTime": {
     "end_time": "2020-07-11T07:03:25.619630Z",
     "start_time": "2020-07-11T07:03:25.578023Z"
    }
   },
   "outputs": [
    {
     "data": {
      "text/plain": [
       "4"
      ]
     },
     "execution_count": 85,
     "metadata": {},
     "output_type": "execute_result"
    }
   ],
   "source": [
    "sample_order['1st_del_attempt_datetime'].weekday()"
   ]
  },
  {
   "cell_type": "code",
   "execution_count": 86,
   "metadata": {
    "ExecuteTime": {
     "end_time": "2020-07-11T07:03:48.209423Z",
     "start_time": "2020-07-11T07:03:48.197319Z"
    }
   },
   "outputs": [
    {
     "data": {
      "text/plain": [
       "2"
      ]
     },
     "execution_count": 86,
     "metadata": {},
     "output_type": "execute_result"
    }
   ],
   "source": [
    "sample_order['pick_datetime'].weekday()"
   ]
  },
  {
   "cell_type": "code",
   "execution_count": 87,
   "metadata": {
    "ExecuteTime": {
     "end_time": "2020-07-11T07:04:17.700984Z",
     "start_time": "2020-07-11T07:04:17.690818Z"
    }
   },
   "outputs": [
    {
     "data": {
      "text/plain": [
       "1"
      ]
     },
     "execution_count": 87,
     "metadata": {},
     "output_type": "execute_result"
    }
   ],
   "source": [
    "sample_order['2nd_deliver_attempt_datetime'].weekday()"
   ]
  },
  {
   "cell_type": "code",
   "execution_count": 105,
   "metadata": {
    "ExecuteTime": {
     "end_time": "2020-07-11T07:24:17.228194Z",
     "start_time": "2020-07-11T07:24:17.203111Z"
    }
   },
   "outputs": [
    {
     "data": {
      "text/plain": [
       "1"
      ]
     },
     "execution_count": 105,
     "metadata": {},
     "output_type": "execute_result"
    }
   ],
   "source": [
    "np.busday_count(sample_order['pick_datetime'].date(), sample_order['1st_del_attempt_datetime'].date(), weekmask=[1,1,1,1,1,1,0], holidays=holiday_list) - 1"
   ]
  },
  {
   "cell_type": "markdown",
   "metadata": {},
   "source": [
    "\n",
    "Find orders that fall in public holiday range. "
   ]
  },
  {
   "cell_type": "code",
   "execution_count": 103,
   "metadata": {
    "ExecuteTime": {
     "end_time": "2020-07-11T07:21:24.221332Z",
     "start_time": "2020-07-11T07:21:24.215603Z"
    }
   },
   "outputs": [],
   "source": [
    "holiday_list = ['2020-03-08','2020-03-25', '2020-03-30', '2020-03-31']"
   ]
  },
  {
   "cell_type": "markdown",
   "metadata": {},
   "source": [
    "Converted the datetime columns into standalone date columns for the np method to ingest"
   ]
  },
  {
   "cell_type": "code",
   "execution_count": 120,
   "metadata": {
    "ExecuteTime": {
     "end_time": "2020-07-11T07:34:34.364214Z",
     "start_time": "2020-07-11T07:34:31.073802Z"
    },
    "collapsed": true
   },
   "outputs": [
    {
     "ename": "KeyError",
     "evalue": "'2nd_del_attempt_datetime'",
     "output_type": "error",
     "traceback": [
      "\u001b[0;31m---------------------------------------------------------------------------\u001b[0m",
      "\u001b[0;31mKeyError\u001b[0m                                  Traceback (most recent call last)",
      "\u001b[0;32m~/opt/anaconda3/lib/python3.7/site-packages/pandas/core/indexes/base.py\u001b[0m in \u001b[0;36mget_loc\u001b[0;34m(self, key, method, tolerance)\u001b[0m\n\u001b[1;32m   2645\u001b[0m             \u001b[0;32mtry\u001b[0m\u001b[0;34m:\u001b[0m\u001b[0;34m\u001b[0m\u001b[0;34m\u001b[0m\u001b[0m\n\u001b[0;32m-> 2646\u001b[0;31m                 \u001b[0;32mreturn\u001b[0m \u001b[0mself\u001b[0m\u001b[0;34m.\u001b[0m\u001b[0m_engine\u001b[0m\u001b[0;34m.\u001b[0m\u001b[0mget_loc\u001b[0m\u001b[0;34m(\u001b[0m\u001b[0mkey\u001b[0m\u001b[0;34m)\u001b[0m\u001b[0;34m\u001b[0m\u001b[0;34m\u001b[0m\u001b[0m\n\u001b[0m\u001b[1;32m   2647\u001b[0m             \u001b[0;32mexcept\u001b[0m \u001b[0mKeyError\u001b[0m\u001b[0;34m:\u001b[0m\u001b[0;34m\u001b[0m\u001b[0;34m\u001b[0m\u001b[0m\n",
      "\u001b[0;32mpandas/_libs/index.pyx\u001b[0m in \u001b[0;36mpandas._libs.index.IndexEngine.get_loc\u001b[0;34m()\u001b[0m\n",
      "\u001b[0;32mpandas/_libs/index.pyx\u001b[0m in \u001b[0;36mpandas._libs.index.IndexEngine.get_loc\u001b[0;34m()\u001b[0m\n",
      "\u001b[0;32mpandas/_libs/hashtable_class_helper.pxi\u001b[0m in \u001b[0;36mpandas._libs.hashtable.PyObjectHashTable.get_item\u001b[0;34m()\u001b[0m\n",
      "\u001b[0;32mpandas/_libs/hashtable_class_helper.pxi\u001b[0m in \u001b[0;36mpandas._libs.hashtable.PyObjectHashTable.get_item\u001b[0;34m()\u001b[0m\n",
      "\u001b[0;31mKeyError\u001b[0m: '2nd_del_attempt_datetime'",
      "\nDuring handling of the above exception, another exception occurred:\n",
      "\u001b[0;31mKeyError\u001b[0m                                  Traceback (most recent call last)",
      "\u001b[0;32m<ipython-input-120-f840162bd155>\u001b[0m in \u001b[0;36m<module>\u001b[0;34m\u001b[0m\n\u001b[1;32m      1\u001b[0m \u001b[0mcompfile\u001b[0m\u001b[0;34m[\u001b[0m\u001b[0;34m'pick_date'\u001b[0m\u001b[0;34m]\u001b[0m \u001b[0;34m=\u001b[0m \u001b[0mpd\u001b[0m\u001b[0;34m.\u001b[0m\u001b[0mto_datetime\u001b[0m\u001b[0;34m(\u001b[0m\u001b[0mcompfile\u001b[0m\u001b[0;34m[\u001b[0m\u001b[0;34m'pick_datetime'\u001b[0m\u001b[0;34m]\u001b[0m\u001b[0;34m)\u001b[0m\u001b[0;34m.\u001b[0m\u001b[0mdt\u001b[0m\u001b[0;34m.\u001b[0m\u001b[0mdate\u001b[0m\u001b[0;34m\u001b[0m\u001b[0;34m\u001b[0m\u001b[0m\n\u001b[1;32m      2\u001b[0m \u001b[0mcompfile\u001b[0m\u001b[0;34m[\u001b[0m\u001b[0;34m'1st_del_date'\u001b[0m\u001b[0;34m]\u001b[0m \u001b[0;34m=\u001b[0m \u001b[0mpd\u001b[0m\u001b[0;34m.\u001b[0m\u001b[0mto_datetime\u001b[0m\u001b[0;34m(\u001b[0m\u001b[0mcompfile\u001b[0m\u001b[0;34m[\u001b[0m\u001b[0;34m'1st_del_attempt_datetime'\u001b[0m\u001b[0;34m]\u001b[0m\u001b[0;34m)\u001b[0m\u001b[0;34m.\u001b[0m\u001b[0mdt\u001b[0m\u001b[0;34m.\u001b[0m\u001b[0mdate\u001b[0m\u001b[0;34m\u001b[0m\u001b[0;34m\u001b[0m\u001b[0m\n\u001b[0;32m----> 3\u001b[0;31m \u001b[0mcompfile\u001b[0m\u001b[0;34m[\u001b[0m\u001b[0;34m'2nd_del_date'\u001b[0m\u001b[0;34m]\u001b[0m \u001b[0;34m=\u001b[0m \u001b[0mpd\u001b[0m\u001b[0;34m.\u001b[0m\u001b[0mto_datetime\u001b[0m\u001b[0;34m(\u001b[0m\u001b[0mcompfile\u001b[0m\u001b[0;34m[\u001b[0m\u001b[0;34m'2nd_del_attempt_datetime'\u001b[0m\u001b[0;34m]\u001b[0m\u001b[0;34m)\u001b[0m\u001b[0;34m.\u001b[0m\u001b[0mdt\u001b[0m\u001b[0;34m.\u001b[0m\u001b[0mdate\u001b[0m\u001b[0;34m\u001b[0m\u001b[0;34m\u001b[0m\u001b[0m\n\u001b[0m",
      "\u001b[0;32m~/opt/anaconda3/lib/python3.7/site-packages/pandas/core/frame.py\u001b[0m in \u001b[0;36m__getitem__\u001b[0;34m(self, key)\u001b[0m\n\u001b[1;32m   2798\u001b[0m             \u001b[0;32mif\u001b[0m \u001b[0mself\u001b[0m\u001b[0;34m.\u001b[0m\u001b[0mcolumns\u001b[0m\u001b[0;34m.\u001b[0m\u001b[0mnlevels\u001b[0m \u001b[0;34m>\u001b[0m \u001b[0;36m1\u001b[0m\u001b[0;34m:\u001b[0m\u001b[0;34m\u001b[0m\u001b[0;34m\u001b[0m\u001b[0m\n\u001b[1;32m   2799\u001b[0m                 \u001b[0;32mreturn\u001b[0m \u001b[0mself\u001b[0m\u001b[0;34m.\u001b[0m\u001b[0m_getitem_multilevel\u001b[0m\u001b[0;34m(\u001b[0m\u001b[0mkey\u001b[0m\u001b[0;34m)\u001b[0m\u001b[0;34m\u001b[0m\u001b[0;34m\u001b[0m\u001b[0m\n\u001b[0;32m-> 2800\u001b[0;31m             \u001b[0mindexer\u001b[0m \u001b[0;34m=\u001b[0m \u001b[0mself\u001b[0m\u001b[0;34m.\u001b[0m\u001b[0mcolumns\u001b[0m\u001b[0;34m.\u001b[0m\u001b[0mget_loc\u001b[0m\u001b[0;34m(\u001b[0m\u001b[0mkey\u001b[0m\u001b[0;34m)\u001b[0m\u001b[0;34m\u001b[0m\u001b[0;34m\u001b[0m\u001b[0m\n\u001b[0m\u001b[1;32m   2801\u001b[0m             \u001b[0;32mif\u001b[0m \u001b[0mis_integer\u001b[0m\u001b[0;34m(\u001b[0m\u001b[0mindexer\u001b[0m\u001b[0;34m)\u001b[0m\u001b[0;34m:\u001b[0m\u001b[0;34m\u001b[0m\u001b[0;34m\u001b[0m\u001b[0m\n\u001b[1;32m   2802\u001b[0m                 \u001b[0mindexer\u001b[0m \u001b[0;34m=\u001b[0m \u001b[0;34m[\u001b[0m\u001b[0mindexer\u001b[0m\u001b[0;34m]\u001b[0m\u001b[0;34m\u001b[0m\u001b[0;34m\u001b[0m\u001b[0m\n",
      "\u001b[0;32m~/opt/anaconda3/lib/python3.7/site-packages/pandas/core/indexes/base.py\u001b[0m in \u001b[0;36mget_loc\u001b[0;34m(self, key, method, tolerance)\u001b[0m\n\u001b[1;32m   2646\u001b[0m                 \u001b[0;32mreturn\u001b[0m \u001b[0mself\u001b[0m\u001b[0;34m.\u001b[0m\u001b[0m_engine\u001b[0m\u001b[0;34m.\u001b[0m\u001b[0mget_loc\u001b[0m\u001b[0;34m(\u001b[0m\u001b[0mkey\u001b[0m\u001b[0;34m)\u001b[0m\u001b[0;34m\u001b[0m\u001b[0;34m\u001b[0m\u001b[0m\n\u001b[1;32m   2647\u001b[0m             \u001b[0;32mexcept\u001b[0m \u001b[0mKeyError\u001b[0m\u001b[0;34m:\u001b[0m\u001b[0;34m\u001b[0m\u001b[0;34m\u001b[0m\u001b[0m\n\u001b[0;32m-> 2648\u001b[0;31m                 \u001b[0;32mreturn\u001b[0m \u001b[0mself\u001b[0m\u001b[0;34m.\u001b[0m\u001b[0m_engine\u001b[0m\u001b[0;34m.\u001b[0m\u001b[0mget_loc\u001b[0m\u001b[0;34m(\u001b[0m\u001b[0mself\u001b[0m\u001b[0;34m.\u001b[0m\u001b[0m_maybe_cast_indexer\u001b[0m\u001b[0;34m(\u001b[0m\u001b[0mkey\u001b[0m\u001b[0;34m)\u001b[0m\u001b[0;34m)\u001b[0m\u001b[0;34m\u001b[0m\u001b[0;34m\u001b[0m\u001b[0m\n\u001b[0m\u001b[1;32m   2649\u001b[0m         \u001b[0mindexer\u001b[0m \u001b[0;34m=\u001b[0m \u001b[0mself\u001b[0m\u001b[0;34m.\u001b[0m\u001b[0mget_indexer\u001b[0m\u001b[0;34m(\u001b[0m\u001b[0;34m[\u001b[0m\u001b[0mkey\u001b[0m\u001b[0;34m]\u001b[0m\u001b[0;34m,\u001b[0m \u001b[0mmethod\u001b[0m\u001b[0;34m=\u001b[0m\u001b[0mmethod\u001b[0m\u001b[0;34m,\u001b[0m \u001b[0mtolerance\u001b[0m\u001b[0;34m=\u001b[0m\u001b[0mtolerance\u001b[0m\u001b[0;34m)\u001b[0m\u001b[0;34m\u001b[0m\u001b[0;34m\u001b[0m\u001b[0m\n\u001b[1;32m   2650\u001b[0m         \u001b[0;32mif\u001b[0m \u001b[0mindexer\u001b[0m\u001b[0;34m.\u001b[0m\u001b[0mndim\u001b[0m \u001b[0;34m>\u001b[0m \u001b[0;36m1\u001b[0m \u001b[0;32mor\u001b[0m \u001b[0mindexer\u001b[0m\u001b[0;34m.\u001b[0m\u001b[0msize\u001b[0m \u001b[0;34m>\u001b[0m \u001b[0;36m1\u001b[0m\u001b[0;34m:\u001b[0m\u001b[0;34m\u001b[0m\u001b[0;34m\u001b[0m\u001b[0m\n",
      "\u001b[0;32mpandas/_libs/index.pyx\u001b[0m in \u001b[0;36mpandas._libs.index.IndexEngine.get_loc\u001b[0;34m()\u001b[0m\n",
      "\u001b[0;32mpandas/_libs/index.pyx\u001b[0m in \u001b[0;36mpandas._libs.index.IndexEngine.get_loc\u001b[0;34m()\u001b[0m\n",
      "\u001b[0;32mpandas/_libs/hashtable_class_helper.pxi\u001b[0m in \u001b[0;36mpandas._libs.hashtable.PyObjectHashTable.get_item\u001b[0;34m()\u001b[0m\n",
      "\u001b[0;32mpandas/_libs/hashtable_class_helper.pxi\u001b[0m in \u001b[0;36mpandas._libs.hashtable.PyObjectHashTable.get_item\u001b[0;34m()\u001b[0m\n",
      "\u001b[0;31mKeyError\u001b[0m: '2nd_del_attempt_datetime'"
     ]
    }
   ],
   "source": [
    "compfile['pick_date'] = pd.to_datetime(compfile['pick_datetime']).dt.date  \n",
    "compfile['1st_del_date'] = pd.to_datetime(compfile['1st_del_attempt_datetime']).dt.date  \n"
   ]
  },
  {
   "cell_type": "code",
   "execution_count": 123,
   "metadata": {
    "ExecuteTime": {
     "end_time": "2020-07-11T07:35:24.138878Z",
     "start_time": "2020-07-11T07:35:22.821573Z"
    }
   },
   "outputs": [],
   "source": [
    "compfile['2nd_del_date'] = pd.to_datetime(compfile['2nd_deliver_attempt_datetime']).dt.date  \n"
   ]
  },
  {
   "cell_type": "markdown",
   "metadata": {},
   "source": [
    "The workhorse function, np.busday_count which takes in both eligible weekdays as well as holidays. Almost perfect for this problem."
   ]
  },
  {
   "cell_type": "code",
   "execution_count": 232,
   "metadata": {
    "ExecuteTime": {
     "end_time": "2020-07-11T09:41:39.180170Z",
     "start_time": "2020-07-11T09:41:28.276234Z"
    }
   },
   "outputs": [],
   "source": [
    "compfile['pickup_1st_del_range'] = np.busday_count(compfile['pick_date'], compfile['1st_del_date'], weekmask=[1,1,1,1,1,1,0], holidays=holiday_list)"
   ]
  },
  {
   "cell_type": "markdown",
   "metadata": {},
   "source": [
    "Secondary df to deal with the NaN values. On hindsight, should have used a function to replace NaT values with the 1st_del_date so that the difference would equal 0."
   ]
  },
  {
   "cell_type": "code",
   "execution_count": 233,
   "metadata": {
    "ExecuteTime": {
     "end_time": "2020-07-11T09:43:03.354737Z",
     "start_time": "2020-07-11T09:42:57.431154Z"
    }
   },
   "outputs": [
    {
     "name": "stderr",
     "output_type": "stream",
     "text": [
      "/Users/arnybarnie/opt/anaconda3/lib/python3.7/site-packages/ipykernel_launcher.py:1: SettingWithCopyWarning: \n",
      "A value is trying to be set on a copy of a slice from a DataFrame.\n",
      "Try using .loc[row_indexer,col_indexer] = value instead\n",
      "\n",
      "See the caveats in the documentation: https://pandas.pydata.org/pandas-docs/stable/user_guide/indexing.html#returning-a-view-versus-a-copy\n",
      "  \"\"\"Entry point for launching an IPython kernel.\n"
     ]
    }
   ],
   "source": [
    "temp_2nd_del_df['1st_del_2nd_del_range'] = np.busday_count(temp_2nd_del_df['1st_del_date'], temp_2nd_del_df['2nd_del_date'], weekmask=[1,1,1,1,1,1,0], holidays=holiday_list)"
   ]
  },
  {
   "cell_type": "code",
   "execution_count": 166,
   "metadata": {
    "ExecuteTime": {
     "end_time": "2020-07-11T08:26:05.874991Z",
     "start_time": "2020-07-11T08:26:05.694896Z"
    }
   },
   "outputs": [
    {
     "name": "stderr",
     "output_type": "stream",
     "text": [
      "/Users/arnybarnie/opt/anaconda3/lib/python3.7/site-packages/ipykernel_launcher.py:1: SettingWithCopyWarning: \n",
      "A value is trying to be set on a copy of a slice from a DataFrame.\n",
      "Try using .loc[row_indexer,col_indexer] = value instead\n",
      "\n",
      "See the caveats in the documentation: https://pandas.pydata.org/pandas-docs/stable/user_guide/indexing.html#returning-a-view-versus-a-copy\n",
      "  \"\"\"Entry point for launching an IPython kernel.\n"
     ]
    }
   ],
   "source": [
    "temp_2nd_del_df['1st_del_2nd_del_range'] = temp_2nd_del_df['1st_del_2nd_del_range'].astype('int64')"
   ]
  },
  {
   "cell_type": "code",
   "execution_count": 234,
   "metadata": {
    "ExecuteTime": {
     "end_time": "2020-07-11T09:45:44.365063Z",
     "start_time": "2020-07-11T09:44:14.709122Z"
    }
   },
   "outputs": [],
   "source": [
    "compfile_processed_df = pd.merge(compfile, temp_2nd_del_df[['orderid', '1st_del_2nd_del_range']], on='orderid', how='left')"
   ]
  },
  {
   "cell_type": "code",
   "execution_count": 176,
   "metadata": {
    "ExecuteTime": {
     "end_time": "2020-07-11T08:32:50.081159Z",
     "start_time": "2020-07-11T08:32:49.759618Z"
    },
    "collapsed": true
   },
   "outputs": [
    {
     "ename": "ValueError",
     "evalue": "Cannot convert non-finite values (NA or inf) to integer",
     "output_type": "error",
     "traceback": [
      "\u001b[0;31m---------------------------------------------------------------------------\u001b[0m",
      "\u001b[0;31mValueError\u001b[0m                                Traceback (most recent call last)",
      "\u001b[0;32m<ipython-input-176-66ef2733f7e9>\u001b[0m in \u001b[0;36m<module>\u001b[0;34m\u001b[0m\n\u001b[0;32m----> 1\u001b[0;31m \u001b[0mcompfile_processed_df\u001b[0m\u001b[0;34m[\u001b[0m\u001b[0;34m'1st_del_2nd_del_range'\u001b[0m\u001b[0;34m]\u001b[0m\u001b[0;34m.\u001b[0m\u001b[0mastype\u001b[0m\u001b[0;34m(\u001b[0m\u001b[0;34m'int64'\u001b[0m\u001b[0;34m)\u001b[0m\u001b[0;34m\u001b[0m\u001b[0;34m\u001b[0m\u001b[0m\n\u001b[0m",
      "\u001b[0;32m~/opt/anaconda3/lib/python3.7/site-packages/pandas/core/generic.py\u001b[0m in \u001b[0;36mastype\u001b[0;34m(self, dtype, copy, errors)\u001b[0m\n\u001b[1;32m   5696\u001b[0m         \u001b[0;32melse\u001b[0m\u001b[0;34m:\u001b[0m\u001b[0;34m\u001b[0m\u001b[0;34m\u001b[0m\u001b[0m\n\u001b[1;32m   5697\u001b[0m             \u001b[0;31m# else, only a single dtype is given\u001b[0m\u001b[0;34m\u001b[0m\u001b[0;34m\u001b[0m\u001b[0;34m\u001b[0m\u001b[0m\n\u001b[0;32m-> 5698\u001b[0;31m             \u001b[0mnew_data\u001b[0m \u001b[0;34m=\u001b[0m \u001b[0mself\u001b[0m\u001b[0;34m.\u001b[0m\u001b[0m_data\u001b[0m\u001b[0;34m.\u001b[0m\u001b[0mastype\u001b[0m\u001b[0;34m(\u001b[0m\u001b[0mdtype\u001b[0m\u001b[0;34m=\u001b[0m\u001b[0mdtype\u001b[0m\u001b[0;34m,\u001b[0m \u001b[0mcopy\u001b[0m\u001b[0;34m=\u001b[0m\u001b[0mcopy\u001b[0m\u001b[0;34m,\u001b[0m \u001b[0merrors\u001b[0m\u001b[0;34m=\u001b[0m\u001b[0merrors\u001b[0m\u001b[0;34m)\u001b[0m\u001b[0;34m\u001b[0m\u001b[0;34m\u001b[0m\u001b[0m\n\u001b[0m\u001b[1;32m   5699\u001b[0m             \u001b[0;32mreturn\u001b[0m \u001b[0mself\u001b[0m\u001b[0;34m.\u001b[0m\u001b[0m_constructor\u001b[0m\u001b[0;34m(\u001b[0m\u001b[0mnew_data\u001b[0m\u001b[0;34m)\u001b[0m\u001b[0;34m.\u001b[0m\u001b[0m__finalize__\u001b[0m\u001b[0;34m(\u001b[0m\u001b[0mself\u001b[0m\u001b[0;34m)\u001b[0m\u001b[0;34m\u001b[0m\u001b[0;34m\u001b[0m\u001b[0m\n\u001b[1;32m   5700\u001b[0m \u001b[0;34m\u001b[0m\u001b[0m\n",
      "\u001b[0;32m~/opt/anaconda3/lib/python3.7/site-packages/pandas/core/internals/managers.py\u001b[0m in \u001b[0;36mastype\u001b[0;34m(self, dtype, copy, errors)\u001b[0m\n\u001b[1;32m    580\u001b[0m \u001b[0;34m\u001b[0m\u001b[0m\n\u001b[1;32m    581\u001b[0m     \u001b[0;32mdef\u001b[0m \u001b[0mastype\u001b[0m\u001b[0;34m(\u001b[0m\u001b[0mself\u001b[0m\u001b[0;34m,\u001b[0m \u001b[0mdtype\u001b[0m\u001b[0;34m,\u001b[0m \u001b[0mcopy\u001b[0m\u001b[0;34m:\u001b[0m \u001b[0mbool\u001b[0m \u001b[0;34m=\u001b[0m \u001b[0;32mFalse\u001b[0m\u001b[0;34m,\u001b[0m \u001b[0merrors\u001b[0m\u001b[0;34m:\u001b[0m \u001b[0mstr\u001b[0m \u001b[0;34m=\u001b[0m \u001b[0;34m\"raise\"\u001b[0m\u001b[0;34m)\u001b[0m\u001b[0;34m:\u001b[0m\u001b[0;34m\u001b[0m\u001b[0;34m\u001b[0m\u001b[0m\n\u001b[0;32m--> 582\u001b[0;31m         \u001b[0;32mreturn\u001b[0m \u001b[0mself\u001b[0m\u001b[0;34m.\u001b[0m\u001b[0mapply\u001b[0m\u001b[0;34m(\u001b[0m\u001b[0;34m\"astype\"\u001b[0m\u001b[0;34m,\u001b[0m \u001b[0mdtype\u001b[0m\u001b[0;34m=\u001b[0m\u001b[0mdtype\u001b[0m\u001b[0;34m,\u001b[0m \u001b[0mcopy\u001b[0m\u001b[0;34m=\u001b[0m\u001b[0mcopy\u001b[0m\u001b[0;34m,\u001b[0m \u001b[0merrors\u001b[0m\u001b[0;34m=\u001b[0m\u001b[0merrors\u001b[0m\u001b[0;34m)\u001b[0m\u001b[0;34m\u001b[0m\u001b[0;34m\u001b[0m\u001b[0m\n\u001b[0m\u001b[1;32m    583\u001b[0m \u001b[0;34m\u001b[0m\u001b[0m\n\u001b[1;32m    584\u001b[0m     \u001b[0;32mdef\u001b[0m \u001b[0mconvert\u001b[0m\u001b[0;34m(\u001b[0m\u001b[0mself\u001b[0m\u001b[0;34m,\u001b[0m \u001b[0;34m**\u001b[0m\u001b[0mkwargs\u001b[0m\u001b[0;34m)\u001b[0m\u001b[0;34m:\u001b[0m\u001b[0;34m\u001b[0m\u001b[0;34m\u001b[0m\u001b[0m\n",
      "\u001b[0;32m~/opt/anaconda3/lib/python3.7/site-packages/pandas/core/internals/managers.py\u001b[0m in \u001b[0;36mapply\u001b[0;34m(self, f, filter, **kwargs)\u001b[0m\n\u001b[1;32m    440\u001b[0m                 \u001b[0mapplied\u001b[0m \u001b[0;34m=\u001b[0m \u001b[0mb\u001b[0m\u001b[0;34m.\u001b[0m\u001b[0mapply\u001b[0m\u001b[0;34m(\u001b[0m\u001b[0mf\u001b[0m\u001b[0;34m,\u001b[0m \u001b[0;34m**\u001b[0m\u001b[0mkwargs\u001b[0m\u001b[0;34m)\u001b[0m\u001b[0;34m\u001b[0m\u001b[0;34m\u001b[0m\u001b[0m\n\u001b[1;32m    441\u001b[0m             \u001b[0;32melse\u001b[0m\u001b[0;34m:\u001b[0m\u001b[0;34m\u001b[0m\u001b[0;34m\u001b[0m\u001b[0m\n\u001b[0;32m--> 442\u001b[0;31m                 \u001b[0mapplied\u001b[0m \u001b[0;34m=\u001b[0m \u001b[0mgetattr\u001b[0m\u001b[0;34m(\u001b[0m\u001b[0mb\u001b[0m\u001b[0;34m,\u001b[0m \u001b[0mf\u001b[0m\u001b[0;34m)\u001b[0m\u001b[0;34m(\u001b[0m\u001b[0;34m**\u001b[0m\u001b[0mkwargs\u001b[0m\u001b[0;34m)\u001b[0m\u001b[0;34m\u001b[0m\u001b[0;34m\u001b[0m\u001b[0m\n\u001b[0m\u001b[1;32m    443\u001b[0m             \u001b[0mresult_blocks\u001b[0m \u001b[0;34m=\u001b[0m \u001b[0m_extend_blocks\u001b[0m\u001b[0;34m(\u001b[0m\u001b[0mapplied\u001b[0m\u001b[0;34m,\u001b[0m \u001b[0mresult_blocks\u001b[0m\u001b[0;34m)\u001b[0m\u001b[0;34m\u001b[0m\u001b[0;34m\u001b[0m\u001b[0m\n\u001b[1;32m    444\u001b[0m \u001b[0;34m\u001b[0m\u001b[0m\n",
      "\u001b[0;32m~/opt/anaconda3/lib/python3.7/site-packages/pandas/core/internals/blocks.py\u001b[0m in \u001b[0;36mastype\u001b[0;34m(self, dtype, copy, errors)\u001b[0m\n\u001b[1;32m    623\u001b[0m             \u001b[0mvals1d\u001b[0m \u001b[0;34m=\u001b[0m \u001b[0mvalues\u001b[0m\u001b[0;34m.\u001b[0m\u001b[0mravel\u001b[0m\u001b[0;34m(\u001b[0m\u001b[0;34m)\u001b[0m\u001b[0;34m\u001b[0m\u001b[0;34m\u001b[0m\u001b[0m\n\u001b[1;32m    624\u001b[0m             \u001b[0;32mtry\u001b[0m\u001b[0;34m:\u001b[0m\u001b[0;34m\u001b[0m\u001b[0;34m\u001b[0m\u001b[0m\n\u001b[0;32m--> 625\u001b[0;31m                 \u001b[0mvalues\u001b[0m \u001b[0;34m=\u001b[0m \u001b[0mastype_nansafe\u001b[0m\u001b[0;34m(\u001b[0m\u001b[0mvals1d\u001b[0m\u001b[0;34m,\u001b[0m \u001b[0mdtype\u001b[0m\u001b[0;34m,\u001b[0m \u001b[0mcopy\u001b[0m\u001b[0;34m=\u001b[0m\u001b[0;32mTrue\u001b[0m\u001b[0;34m)\u001b[0m\u001b[0;34m\u001b[0m\u001b[0;34m\u001b[0m\u001b[0m\n\u001b[0m\u001b[1;32m    626\u001b[0m             \u001b[0;32mexcept\u001b[0m \u001b[0;34m(\u001b[0m\u001b[0mValueError\u001b[0m\u001b[0;34m,\u001b[0m \u001b[0mTypeError\u001b[0m\u001b[0;34m)\u001b[0m\u001b[0;34m:\u001b[0m\u001b[0;34m\u001b[0m\u001b[0;34m\u001b[0m\u001b[0m\n\u001b[1;32m    627\u001b[0m                 \u001b[0;31m# e.g. astype_nansafe can fail on object-dtype of strings\u001b[0m\u001b[0;34m\u001b[0m\u001b[0;34m\u001b[0m\u001b[0;34m\u001b[0m\u001b[0m\n",
      "\u001b[0;32m~/opt/anaconda3/lib/python3.7/site-packages/pandas/core/dtypes/cast.py\u001b[0m in \u001b[0;36mastype_nansafe\u001b[0;34m(arr, dtype, copy, skipna)\u001b[0m\n\u001b[1;32m    866\u001b[0m \u001b[0;34m\u001b[0m\u001b[0m\n\u001b[1;32m    867\u001b[0m         \u001b[0;32mif\u001b[0m \u001b[0;32mnot\u001b[0m \u001b[0mnp\u001b[0m\u001b[0;34m.\u001b[0m\u001b[0misfinite\u001b[0m\u001b[0;34m(\u001b[0m\u001b[0marr\u001b[0m\u001b[0;34m)\u001b[0m\u001b[0;34m.\u001b[0m\u001b[0mall\u001b[0m\u001b[0;34m(\u001b[0m\u001b[0;34m)\u001b[0m\u001b[0;34m:\u001b[0m\u001b[0;34m\u001b[0m\u001b[0;34m\u001b[0m\u001b[0m\n\u001b[0;32m--> 868\u001b[0;31m             \u001b[0;32mraise\u001b[0m \u001b[0mValueError\u001b[0m\u001b[0;34m(\u001b[0m\u001b[0;34m\"Cannot convert non-finite values (NA or inf) to integer\"\u001b[0m\u001b[0;34m)\u001b[0m\u001b[0;34m\u001b[0m\u001b[0;34m\u001b[0m\u001b[0m\n\u001b[0m\u001b[1;32m    869\u001b[0m \u001b[0;34m\u001b[0m\u001b[0m\n\u001b[1;32m    870\u001b[0m     \u001b[0;32melif\u001b[0m \u001b[0mis_object_dtype\u001b[0m\u001b[0;34m(\u001b[0m\u001b[0marr\u001b[0m\u001b[0;34m)\u001b[0m\u001b[0;34m:\u001b[0m\u001b[0;34m\u001b[0m\u001b[0;34m\u001b[0m\u001b[0m\n",
      "\u001b[0;31mValueError\u001b[0m: Cannot convert non-finite values (NA or inf) to integer"
     ]
    }
   ],
   "source": [
    "compfile_processed_df['1st_del_2nd_del_range'].astype('int64')"
   ]
  },
  {
   "cell_type": "code",
   "execution_count": 157,
   "metadata": {
    "ExecuteTime": {
     "end_time": "2020-07-11T08:18:40.262356Z",
     "start_time": "2020-07-11T08:18:40.253454Z"
    }
   },
   "outputs": [],
   "source": [
    "sample_order_2 = compfile_processed_df.iloc[:2]"
   ]
  },
  {
   "cell_type": "code",
   "execution_count": 201,
   "metadata": {
    "ExecuteTime": {
     "end_time": "2020-07-11T08:52:10.801800Z",
     "start_time": "2020-07-11T08:52:10.740053Z"
    }
   },
   "outputs": [],
   "source": [
    "sample_order_2['pick_1st_range'] = ((sample_order_2['selleraddress_city'] == 'manila') & (sample_order_2['buyeraddress_city']=='manila') & (sample_order_2['pickup_1st_del_range'] <= 3 ) | \n",
    "                                    (sample_order_2['selleraddress_city'] == 'manila') & (sample_order_2['buyeraddress_city']=='luzon') & (sample_order_2['pickup_1st_del_range'] <= 5 ) |\n",
    "                                    (sample_order_2['selleraddress_city'] == 'manila') & (sample_order_2['buyeraddress_city']=='visayas') & (sample_order_2['pickup_1st_del_range'] <= 7 ) |\n",
    "                                    (sample_order_2['selleraddress_city'] == 'manila') & (sample_order_2['buyeraddress_city']=='mindanao') & (sample_order_2['pickup_1st_del_range'] <= 7 ) |\n",
    "                                    (sample_order_2['selleraddress_city'] == 'luzon') & (sample_order_2['buyeraddress_city']=='luzon') & (sample_order_2['pickup_1st_del_range'] <= 5 ) \n",
    "                                   \n",
    "                                   )"
   ]
  },
  {
   "cell_type": "code",
   "execution_count": 207,
   "metadata": {
    "ExecuteTime": {
     "end_time": "2020-07-11T08:53:53.075335Z",
     "start_time": "2020-07-11T08:53:53.069967Z"
    }
   },
   "outputs": [],
   "source": [
    "sample_order_2['1st_2nd_range'] = ((sample_order_2['1st_del_2nd_del_range'].notnull()) & \n",
    "                                   (sample_order_2['1st_del_2nd_del_range'] <= 3)\n",
    "                                  ) "
   ]
  },
  {
   "cell_type": "code",
   "execution_count": 218,
   "metadata": {
    "ExecuteTime": {
     "end_time": "2020-07-11T09:07:27.716549Z",
     "start_time": "2020-07-11T09:07:27.700015Z"
    }
   },
   "outputs": [],
   "source": [
    "sample_order_2.loc[(sample_order_2['pick_1st_range'] == True) & (sample_order_2['1st_2nd_range'] == False) , 'final_outcome'] = 0\n",
    "sample_order_2.loc[(sample_order_2['pick_1st_range'] == True) & (sample_order_2['1st_2nd_range'] == True) , 'final_outcome'] = 0\n",
    "sample_order_2.loc[(sample_order_2['pick_1st_range'] == False) & (sample_order_2['1st_2nd_range'] == False) , 'final_outcome'] = 1 \n",
    "sample_order_2.loc[(sample_order_2['pick_1st_range'] == False) & (sample_order_2['1st_2nd_range'] == True) , 'final_outcome'] = 1\n"
   ]
  },
  {
   "cell_type": "markdown",
   "metadata": {},
   "source": [
    "Doing it on the real dataset:"
   ]
  },
  {
   "cell_type": "code",
   "execution_count": 235,
   "metadata": {
    "ExecuteTime": {
     "end_time": "2020-07-11T09:46:27.368852Z",
     "start_time": "2020-07-11T09:46:17.141089Z"
    }
   },
   "outputs": [],
   "source": [
    "compfile_processed_df['pick_1st_range'] = ((compfile_processed_df['selleraddress_city'] == 'manila') & (compfile_processed_df['buyeraddress_city']=='manila') & (compfile_processed_df['pickup_1st_del_range'] <= 3 ) | \n",
    "                                    (compfile_processed_df['selleraddress_city'] == 'manila') & (compfile_processed_df['buyeraddress_city']=='luzon') & (compfile_processed_df['pickup_1st_del_range'] <= 5 ) |\n",
    "                                    (compfile_processed_df['selleraddress_city'] == 'manila') & (compfile_processed_df['buyeraddress_city']=='visayas') & (compfile_processed_df['pickup_1st_del_range'] <= 7 ) |\n",
    "                                    (compfile_processed_df['selleraddress_city'] == 'manila') & (compfile_processed_df['buyeraddress_city']=='mindanao') & (compfile_processed_df['pickup_1st_del_range'] <= 7 ) |\n",
    "                                    (compfile_processed_df['selleraddress_city'] == 'luzon') & (compfile_processed_df['buyeraddress_city']=='luzon') & (compfile_processed_df['pickup_1st_del_range'] <= 5 ) \n",
    "                                   #True if on time\n",
    "                                   )"
   ]
  },
  {
   "cell_type": "code",
   "execution_count": 236,
   "metadata": {
    "ExecuteTime": {
     "end_time": "2020-07-11T09:46:29.094511Z",
     "start_time": "2020-07-11T09:46:29.019298Z"
    }
   },
   "outputs": [],
   "source": [
    "compfile_processed_df['1st_2nd_range'] = ((compfile_processed_df['1st_del_2nd_del_range'].notnull()) & \n",
    "                                   (compfile_processed_df['1st_del_2nd_del_range'] > 3)\n",
    "                                  ) #true if late"
   ]
  },
  {
   "cell_type": "code",
   "execution_count": 237,
   "metadata": {
    "ExecuteTime": {
     "end_time": "2020-07-11T09:49:39.009202Z",
     "start_time": "2020-07-11T09:48:23.577428Z"
    }
   },
   "outputs": [],
   "source": [
    "compfile_processed_df.loc[(compfile_processed_df['pick_1st_range'] == True) & (compfile_processed_df['1st_2nd_range'] == False) , 'is_late'] = 0 #1st del: ontime, 2nd:ontime\n",
    "compfile_processed_df.loc[(compfile_processed_df['pick_1st_range'] == True) & (compfile_processed_df['1st_2nd_range'] == True) , 'is_late'] = 1 #1st del on time, 2nd:late\n",
    "compfile_processed_df.loc[(compfile_processed_df['pick_1st_range'] == False) & (compfile_processed_df['1st_2nd_range'] == False) , 'is_late'] = 1 #1st del late, 2nd:ontime\n",
    "compfile_processed_df.loc[(compfile_processed_df['pick_1st_range'] == False) & (compfile_processed_df['1st_2nd_range'] == True) , 'is_late'] = 1 #1st del late, 2nd:late\n"
   ]
  },
  {
   "cell_type": "code",
   "execution_count": 238,
   "metadata": {
    "ExecuteTime": {
     "end_time": "2020-07-11T09:51:13.671842Z",
     "start_time": "2020-07-11T09:51:13.620279Z"
    }
   },
   "outputs": [
    {
     "data": {
      "text/plain": [
       "0    0.0\n",
       "1    0.0\n",
       "2    0.0\n",
       "3    0.0\n",
       "4    0.0\n",
       "Name: is_late, dtype: float64"
      ]
     },
     "execution_count": 238,
     "metadata": {},
     "output_type": "execute_result"
    }
   ],
   "source": [
    "compfile_processed_df['is_late'].head()"
   ]
  },
  {
   "cell_type": "code",
   "execution_count": 239,
   "metadata": {
    "ExecuteTime": {
     "end_time": "2020-07-11T09:52:38.953749Z",
     "start_time": "2020-07-11T09:52:38.061194Z"
    }
   },
   "outputs": [],
   "source": [
    "compfile_processed_df['is_late'] = compfile_processed_df['is_late'].astype('int')"
   ]
  },
  {
   "cell_type": "code",
   "execution_count": 240,
   "metadata": {
    "ExecuteTime": {
     "end_time": "2020-07-11T09:54:11.859620Z",
     "start_time": "2020-07-11T09:54:03.048941Z"
    }
   },
   "outputs": [],
   "source": [
    "header = [\"orderid\", 'is_late']\n",
    "compfile_processed_df.to_csv('comp5_submission_4.csv', columns = header, index=False)"
   ]
  },
  {
   "cell_type": "code",
   "execution_count": null,
   "metadata": {},
   "outputs": [],
   "source": []
  },
  {
   "cell_type": "code",
   "execution_count": null,
   "metadata": {},
   "outputs": [],
   "source": []
  },
  {
   "cell_type": "code",
   "execution_count": null,
   "metadata": {},
   "outputs": [],
   "source": []
  },
  {
   "cell_type": "code",
   "execution_count": 219,
   "metadata": {
    "ExecuteTime": {
     "end_time": "2020-07-11T09:07:30.375648Z",
     "start_time": "2020-07-11T09:07:30.342207Z"
    }
   },
   "outputs": [
    {
     "data": {
      "text/html": [
       "<div>\n",
       "<style scoped>\n",
       "    .dataframe tbody tr th:only-of-type {\n",
       "        vertical-align: middle;\n",
       "    }\n",
       "\n",
       "    .dataframe tbody tr th {\n",
       "        vertical-align: top;\n",
       "    }\n",
       "\n",
       "    .dataframe thead th {\n",
       "        text-align: right;\n",
       "    }\n",
       "</style>\n",
       "<table border=\"1\" class=\"dataframe\">\n",
       "  <thead>\n",
       "    <tr style=\"text-align: right;\">\n",
       "      <th></th>\n",
       "      <th>orderid</th>\n",
       "      <th>pick</th>\n",
       "      <th>1st_deliver_attempt</th>\n",
       "      <th>2nd_deliver_attempt</th>\n",
       "      <th>buyeraddress</th>\n",
       "      <th>selleraddress</th>\n",
       "      <th>1st_del_attempt_datetime</th>\n",
       "      <th>2nd_deliver_attempt_datetime</th>\n",
       "      <th>pick_datetime</th>\n",
       "      <th>buyeraddress_lower</th>\n",
       "      <th>...</th>\n",
       "      <th>buyeraddress_city</th>\n",
       "      <th>selleraddress_city</th>\n",
       "      <th>pick_date</th>\n",
       "      <th>1st_del_date</th>\n",
       "      <th>2nd_del_date</th>\n",
       "      <th>pickup_1st_del_range</th>\n",
       "      <th>1st_del_2nd_del_range</th>\n",
       "      <th>pick_1st_range</th>\n",
       "      <th>1st_2nd_range</th>\n",
       "      <th>final_outcome</th>\n",
       "    </tr>\n",
       "  </thead>\n",
       "  <tbody>\n",
       "    <tr>\n",
       "      <th>0</th>\n",
       "      <td>2215676524</td>\n",
       "      <td>1583138397</td>\n",
       "      <td>1.583385e+09</td>\n",
       "      <td>NaN</td>\n",
       "      <td>Baging ldl BUENAVISTA,PATAG.CAGAYAN Buagsong,c...</td>\n",
       "      <td>Pantranco vill. 417 Warehouse# katipunan 532 (...</td>\n",
       "      <td>2020-03-05 05:09:18</td>\n",
       "      <td>NaT</td>\n",
       "      <td>2020-03-02 08:39:57</td>\n",
       "      <td>baging ldl buenavista,patag.cagayan buagsong,c...</td>\n",
       "      <td>...</td>\n",
       "      <td>manila</td>\n",
       "      <td>manila</td>\n",
       "      <td>2020-03-02</td>\n",
       "      <td>2020-03-05</td>\n",
       "      <td>NaT</td>\n",
       "      <td>2</td>\n",
       "      <td>NaN</td>\n",
       "      <td>True</td>\n",
       "      <td>False</td>\n",
       "      <td>0.0</td>\n",
       "    </tr>\n",
       "    <tr>\n",
       "      <th>1</th>\n",
       "      <td>2219624609</td>\n",
       "      <td>1583309968</td>\n",
       "      <td>1.583463e+09</td>\n",
       "      <td>1.583799e+09</td>\n",
       "      <td>coloma's quzom CASANAS Site1 Masiyan 533A Stol...</td>\n",
       "      <td>BLDG 210A Moras C42B 2B16,168 church) Complex ...</td>\n",
       "      <td>2020-03-06 02:53:56</td>\n",
       "      <td>2020-03-10 00:02:56</td>\n",
       "      <td>2020-03-04 08:19:28</td>\n",
       "      <td>coloma's quzom casanas site1 masiyan 533a stol...</td>\n",
       "      <td>...</td>\n",
       "      <td>manila</td>\n",
       "      <td>manila</td>\n",
       "      <td>2020-03-04</td>\n",
       "      <td>2020-03-06</td>\n",
       "      <td>2020-03-10</td>\n",
       "      <td>1</td>\n",
       "      <td>2.0</td>\n",
       "      <td>True</td>\n",
       "      <td>True</td>\n",
       "      <td>0.0</td>\n",
       "    </tr>\n",
       "  </tbody>\n",
       "</table>\n",
       "<p>2 rows × 21 columns</p>\n",
       "</div>"
      ],
      "text/plain": [
       "      orderid        pick  1st_deliver_attempt  2nd_deliver_attempt  \\\n",
       "0  2215676524  1583138397         1.583385e+09                  NaN   \n",
       "1  2219624609  1583309968         1.583463e+09         1.583799e+09   \n",
       "\n",
       "                                        buyeraddress  \\\n",
       "0  Baging ldl BUENAVISTA,PATAG.CAGAYAN Buagsong,c...   \n",
       "1  coloma's quzom CASANAS Site1 Masiyan 533A Stol...   \n",
       "\n",
       "                                       selleraddress 1st_del_attempt_datetime  \\\n",
       "0  Pantranco vill. 417 Warehouse# katipunan 532 (...      2020-03-05 05:09:18   \n",
       "1  BLDG 210A Moras C42B 2B16,168 church) Complex ...      2020-03-06 02:53:56   \n",
       "\n",
       "  2nd_deliver_attempt_datetime       pick_datetime  \\\n",
       "0                          NaT 2020-03-02 08:39:57   \n",
       "1          2020-03-10 00:02:56 2020-03-04 08:19:28   \n",
       "\n",
       "                                  buyeraddress_lower  ... buyeraddress_city  \\\n",
       "0  baging ldl buenavista,patag.cagayan buagsong,c...  ...            manila   \n",
       "1  coloma's quzom casanas site1 masiyan 533a stol...  ...            manila   \n",
       "\n",
       "  selleraddress_city   pick_date 1st_del_date 2nd_del_date  \\\n",
       "0             manila  2020-03-02   2020-03-05          NaT   \n",
       "1             manila  2020-03-04   2020-03-06   2020-03-10   \n",
       "\n",
       "  pickup_1st_del_range  1st_del_2nd_del_range  pick_1st_range  1st_2nd_range  \\\n",
       "0                    2                    NaN            True          False   \n",
       "1                    1                    2.0            True           True   \n",
       "\n",
       "   final_outcome  \n",
       "0            0.0  \n",
       "1            0.0  \n",
       "\n",
       "[2 rows x 21 columns]"
      ]
     },
     "execution_count": 219,
     "metadata": {},
     "output_type": "execute_result"
    }
   ],
   "source": [
    "sample_order_2"
   ]
  },
  {
   "cell_type": "code",
   "execution_count": null,
   "metadata": {},
   "outputs": [],
   "source": []
  },
  {
   "cell_type": "code",
   "execution_count": null,
   "metadata": {},
   "outputs": [],
   "source": []
  }
 ],
 "metadata": {
  "kernelspec": {
   "display_name": "Python 3",
   "language": "python",
   "name": "python3"
  },
  "language_info": {
   "codemirror_mode": {
    "name": "ipython",
    "version": 3
   },
   "file_extension": ".py",
   "mimetype": "text/x-python",
   "name": "python",
   "nbconvert_exporter": "python",
   "pygments_lexer": "ipython3",
   "version": "3.7.6"
  },
  "varInspector": {
   "cols": {
    "lenName": 16,
    "lenType": 16,
    "lenVar": 40
   },
   "kernels_config": {
    "python": {
     "delete_cmd_postfix": "",
     "delete_cmd_prefix": "del ",
     "library": "var_list.py",
     "varRefreshCmd": "print(var_dic_list())"
    },
    "r": {
     "delete_cmd_postfix": ") ",
     "delete_cmd_prefix": "rm(",
     "library": "var_list.r",
     "varRefreshCmd": "cat(var_dic_list()) "
    }
   },
   "position": {
    "height": "397.4px",
    "left": "1166px",
    "right": "20px",
    "top": "120px",
    "width": "350px"
   },
   "types_to_exclude": [
    "module",
    "function",
    "builtin_function_or_method",
    "instance",
    "_Feature"
   ],
   "window_display": false
  }
 },
 "nbformat": 4,
 "nbformat_minor": 4
}
